{
 "cells": [
  {
   "cell_type": "code",
   "execution_count": 3,
   "id": "8a1c5f2a-fc38-4fb4-bb47-cf872a4ed2f7",
   "metadata": {},
   "outputs": [],
   "source": [
    "# Import the random module.\n",
    "import random"
   ]
  },
  {
   "cell_type": "code",
   "execution_count": 4,
   "id": "397f04f3-50e8-4857-93a7-1ad1b68b26b0",
   "metadata": {},
   "outputs": [
    {
     "data": {
      "text/plain": [
       "-41"
      ]
     },
     "execution_count": 4,
     "metadata": {},
     "output_type": "execute_result"
    }
   ],
   "source": [
    "random.randint(-90, 90)"
   ]
  },
  {
   "cell_type": "code",
   "execution_count": 5,
   "id": "f2f4f787-eb4c-4389-b051-2979358c8ecf",
   "metadata": {},
   "outputs": [
    {
     "data": {
      "text/plain": [
       "0.08655488971536918"
      ]
     },
     "execution_count": 5,
     "metadata": {},
     "output_type": "execute_result"
    }
   ],
   "source": [
    "random.random()"
   ]
  },
  {
   "cell_type": "code",
   "execution_count": 6,
   "id": "008e6703-8d9e-4c9f-a233-b7e228b3bd26",
   "metadata": {},
   "outputs": [
    {
     "data": {
      "text/plain": [
       "-0.7381468267678106"
      ]
     },
     "execution_count": 6,
     "metadata": {},
     "output_type": "execute_result"
    }
   ],
   "source": [
    "random_number = random.randint(-90, 89) + random.random()\n",
    "random_number"
   ]
  },
  {
   "cell_type": "code",
   "execution_count": 11,
   "id": "68af8dd4-89bd-40db-981d-7eb18b25b0cc",
   "metadata": {},
   "outputs": [
    {
     "data": {
      "text/plain": [
       "[10.207108537643125,\n",
       " 28.865477538784702,\n",
       " -83.37543673371754,\n",
       " -3.502891939878644,\n",
       " -28.953707923061064,\n",
       " 61.96210665781848,\n",
       " -47.1029131109779,\n",
       " -39.67787956087905,\n",
       " -58.4478360249123,\n",
       " -23.44061795938624]"
      ]
     },
     "execution_count": 11,
     "metadata": {},
     "output_type": "execute_result"
    }
   ],
   "source": [
    "x = 1\n",
    "latitudes = []\n",
    "while x < 11:\n",
    "    random_lat = random.randint(-90, 89) + random.random()\n",
    "    latitudes.append(random_lat)\n",
    "    x += 1\n",
    "    \n",
    "latitudes"
   ]
  },
  {
   "cell_type": "code",
   "execution_count": 12,
   "id": "9e6c9205-9f76-43e8-8f7a-51ac99f8d399",
   "metadata": {},
   "outputs": [
    {
     "data": {
      "text/plain": [
       "36"
      ]
     },
     "execution_count": 12,
     "metadata": {},
     "output_type": "execute_result"
    }
   ],
   "source": [
    "random.randrange(-90, 90, step=1)"
   ]
  },
  {
   "cell_type": "code",
   "execution_count": 14,
   "id": "79311cae-9599-46a1-adbc-4dbc0d660175",
   "metadata": {},
   "outputs": [
    {
     "data": {
      "text/plain": [
       "-57"
      ]
     },
     "execution_count": 14,
     "metadata": {},
     "output_type": "execute_result"
    }
   ],
   "source": [
    "random.randrange(-90, 90, step=3)"
   ]
  },
  {
   "cell_type": "code",
   "execution_count": 15,
   "id": "0388c813-a459-45bb-8627-5cd04abd80f3",
   "metadata": {},
   "outputs": [
    {
     "data": {
      "text/plain": [
       "-64.82017192610513"
      ]
     },
     "execution_count": 15,
     "metadata": {},
     "output_type": "execute_result"
    }
   ],
   "source": [
    "random.uniform(-90, 90)"
   ]
  },
  {
   "cell_type": "code",
   "execution_count": 16,
   "id": "3420d218-e32c-43d6-8032-19e90d752e49",
   "metadata": {},
   "outputs": [],
   "source": [
    "# Import the Numpy module.\n",
    "import numpy as np"
   ]
  },
  {
   "cell_type": "code",
   "execution_count": 17,
   "id": "1e3c4500-8cf7-4dc6-95e3-cad5dc733c82",
   "metadata": {},
   "outputs": [
    {
     "data": {
      "text/plain": [
       "-76.18018487688329"
      ]
     },
     "execution_count": 17,
     "metadata": {},
     "output_type": "execute_result"
    }
   ],
   "source": [
    "np.random.uniform(-90.000, 90.000)"
   ]
  },
  {
   "cell_type": "code",
   "execution_count": 18,
   "id": "42500b0d-85fd-42d5-bd5f-7984e01920c0",
   "metadata": {},
   "outputs": [
    {
     "data": {
      "text/plain": [
       "array([ 32.87617819, -67.65175533, -36.57009969, -38.5073997 ,\n",
       "       -19.95114443,  47.13518051, -63.05718153,  -6.7929538 ,\n",
       "        37.38686903,  75.4966087 , -81.89466363,  51.89116827,\n",
       "        75.9376407 , -73.6895788 ,  83.21606438, -76.43802418,\n",
       "        57.41409318, -10.05746403,  21.84853093, -50.14631664,\n",
       "        69.83437082, -89.45445251, -20.66103913,  20.75723277,\n",
       "        73.86156718, -77.18553693,  78.49700801,  34.72152601,\n",
       "        34.56976558,  -4.89486356,  21.07690319,  20.84722097,\n",
       "       -88.21630565,  49.87346592, -81.29032084,  72.00859047,\n",
       "       -69.72754223, -87.6468254 ,  -3.46783485,  34.86863931,\n",
       "        43.65009519,  77.58011852, -24.0588187 ,  89.7239824 ,\n",
       "       -15.3486825 , -79.64688402,   4.39368277, -31.98912094,\n",
       "        22.67535293,   7.6018049 ])"
      ]
     },
     "execution_count": 18,
     "metadata": {},
     "output_type": "execute_result"
    }
   ],
   "source": [
    "np.random.uniform(-90.000, 90.000, size=50)"
   ]
  },
  {
   "cell_type": "code",
   "execution_count": 19,
   "id": "9c451528-0af4-48bd-b877-bd25155000bf",
   "metadata": {},
   "outputs": [],
   "source": [
    "# Import timeit.\n",
    "import timeit"
   ]
  },
  {
   "cell_type": "code",
   "execution_count": 20,
   "id": "07767f7a-ccc6-4cd6-828b-9b77d3d0df3a",
   "metadata": {},
   "outputs": [
    {
     "name": "stdout",
     "output_type": "stream",
     "text": [
      "19 µs ± 128 ns per loop (mean ± std. dev. of 7 runs, 100,000 loops each)\n"
     ]
    }
   ],
   "source": [
    "%timeit np.random.uniform(-90.000, 90.000, size=1500)"
   ]
  },
  {
   "cell_type": "code",
   "execution_count": 21,
   "id": "4a9448da-738e-4057-93d3-39f7bb8083c8",
   "metadata": {},
   "outputs": [
    {
     "name": "stdout",
     "output_type": "stream",
     "text": [
      "1.46 µs ± 2.24 ns per loop (mean ± std. dev. of 7 runs, 1,000,000 loops each)\n"
     ]
    }
   ],
   "source": [
    "def latitudes(size):\n",
    "    latitudes = []\n",
    "    x = 0\n",
    "    while x < (size):\n",
    "        random_lat = random.randint(-90, 90) + random.random()\n",
    "        latitudes.append(random_lat)\n",
    "        x += 1\n",
    "        return latitudes\n",
    "# Call the function with 1500.\n",
    "%timeit latitudes (1500)"
   ]
  },
  {
   "cell_type": "code",
   "execution_count": null,
   "id": "6160d6ce-6afc-4783-a2b0-8050e3f3b28a",
   "metadata": {},
   "outputs": [],
   "source": []
  }
 ],
 "metadata": {
  "kernelspec": {
   "display_name": "PythonData",
   "language": "python",
   "name": "pythondata"
  },
  "language_info": {
   "codemirror_mode": {
    "name": "ipython",
    "version": 3
   },
   "file_extension": ".py",
   "mimetype": "text/x-python",
   "name": "python",
   "nbconvert_exporter": "python",
   "pygments_lexer": "ipython3",
   "version": "3.9.12"
  }
 },
 "nbformat": 4,
 "nbformat_minor": 5
}
